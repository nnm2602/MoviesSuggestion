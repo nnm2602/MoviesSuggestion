{
  "nbformat": 4,
  "nbformat_minor": 0,
  "metadata": {
    "colab": {
      "provenance": [],
      "authorship_tag": "ABX9TyObyPpWVHb6zWgLMMaOqFBP",
      "include_colab_link": true
    },
    "kernelspec": {
      "name": "python3",
      "display_name": "Python 3"
    },
    "language_info": {
      "name": "python"
    }
  },
  "cells": [
    {
      "cell_type": "markdown",
      "metadata": {
        "id": "view-in-github",
        "colab_type": "text"
      },
      "source": [
        "<a href=\"https://colab.research.google.com/github/nnm2602/MoviesSuggestion/blob/main/MovieSuggestion.ipynb\" target=\"_parent\"><img src=\"https://colab.research.google.com/assets/colab-badge.svg\" alt=\"Open In Colab\"/></a>"
      ]
    },
    {
      "cell_type": "markdown",
      "source": [
        "First, we'll import all of the necessary libraries."
      ],
      "metadata": {
        "id": "9vcgQoFovG73"
      }
    },
    {
      "cell_type": "code",
      "source": [
        "import pandas as pd\n",
        "from sklearn.feature_extraction.text import TfidfVectorizer\n",
        "from sklearn.metrics.pairwise import cosine_similarity\n",
        "import difflib"
      ],
      "metadata": {
        "id": "c0p9179uvKri"
      },
      "execution_count": 6,
      "outputs": []
    },
    {
      "cell_type": "markdown",
      "source": [
        "Reading the data file and selecting the relevant features.\n",
        "\n",
        "Specifically, we will choose the follwing features: generes, keywords, tagline, cast, and director.\n",
        "\n",
        "And combine all of this features into a single column by merging everything separated by a space."
      ],
      "metadata": {
        "id": "Bs-jPe0FvNQM"
      }
    },
    {
      "cell_type": "code",
      "source": [
        "# Load the data from the CSV file into a pandas dataframe\n",
        "movies_data = pd.read_csv('/content/movies.csv')\n",
        "\n",
        "# Select relevant features for recommendation\n",
        "selected_features = ['genres', 'keywords', 'tagline', 'cast', 'director']\n",
        "\n",
        "# Replace null values with an empty string for selected features\n",
        "movies_data[selected_features] = movies_data[selected_features].fillna('')\n",
        "\n",
        "# Combine all selected features into a single column\n",
        "movies_data['combined_features'] = movies_data[selected_features].agg(' '.join, axis=1)"
      ],
      "metadata": {
        "id": "8rp2yUZqvWrS"
      },
      "execution_count": 7,
      "outputs": []
    },
    {
      "cell_type": "markdown",
      "source": [
        "Next, we will convert the text data to feature vectors using TF-IDF. This will distill its semantic meaning into comparable vectors."
      ],
      "metadata": {
        "id": "jR_sBCCsva0H"
      }
    },
    {
      "cell_type": "code",
      "source": [
        "vectorizer = TfidfVectorizer()\n",
        "feature_vectors = vectorizer.fit_transform(movies_data['combined_features'])"
      ],
      "metadata": {
        "id": "dArkd0MJv7s7"
      },
      "execution_count": 8,
      "outputs": []
    },
    {
      "cell_type": "markdown",
      "source": [
        "we will get the similarity scores using cosine similarity."
      ],
      "metadata": {
        "id": "i5Tv5sdlxcVm"
      }
    },
    {
      "cell_type": "code",
      "source": [
        "similarity = cosine_similarity(feature_vectors)"
      ],
      "metadata": {
        "id": "kRFCCKpTxkEH"
      },
      "execution_count": 9,
      "outputs": []
    },
    {
      "cell_type": "markdown",
      "source": [
        "We'll move on to the recommendation process.\n",
        "+ we'll first prompt the user for their movie's name\n",
        "+ then we'll find the closest match for the movie name given by the user\n",
        "+ from that movie title we will use it to locate the index of the movie and get a list of other similar movies based no its similarity score.  "
      ],
      "metadata": {
        "id": "hRHgBbEwxqPA"
      }
    },
    {
      "cell_type": "code",
      "source": [
        "# Get the movie name from the user\n",
        "movie_name = input('Enter your favorite movie name: ')\n",
        "\n",
        "# Find the closest match for the movie name given by the user\n",
        "find_close_match = difflib.get_close_matches(movie_name, movies_data['title'])\n",
        "close_match = find_close_match[0]\n",
        "\n",
        "# Find the index of the movie with the title\n",
        "index_of_the_movie = movies_data[movies_data['title'] == close_match].index[0]\n",
        "\n",
        "# Get a list of similar movies\n",
        "similarity_score = list(enumerate(similarity[index_of_the_movie]))\n",
        "\n",
        "# Sort the movies based on their similarity score\n",
        "sorted_similar_movies = sorted(similarity_score, key=lambda x: x[1], reverse=True)"
      ],
      "metadata": {
        "colab": {
          "base_uri": "https://localhost:8080/"
        },
        "id": "y6NXyduOxsSU",
        "outputId": "5585bc98-8d9b-43bb-aac2-c110223eb1c7"
      },
      "execution_count": 10,
      "outputs": [
        {
          "name": "stdout",
          "output_type": "stream",
          "text": [
            "Enter your favorite movie name: iron mna\n"
          ]
        }
      ]
    },
    {
      "cell_type": "markdown",
      "source": [
        "This is the part where we present our findings to the user."
      ],
      "metadata": {
        "id": "vDlxNKlOyZs4"
      }
    },
    {
      "cell_type": "code",
      "source": [
        "print('Movies suggested for you:\\n')\n",
        "\n",
        "for i, movie in enumerate(sorted_similar_movies[:30], 1):\n",
        "    index = movie[0]\n",
        "    title_from_index = movies_data.loc[index, 'title']\n",
        "    print(i, '.', title_from_index)"
      ],
      "metadata": {
        "colab": {
          "base_uri": "https://localhost:8080/"
        },
        "id": "Pyy4FlNAyf5L",
        "outputId": "f268d248-9d3d-4878-e49e-15bdbd628b7c"
      },
      "execution_count": 11,
      "outputs": [
        {
          "output_type": "stream",
          "name": "stdout",
          "text": [
            "Movies suggested for you:\n",
            "\n",
            "1 . Iron Man\n",
            "2 . Iron Man 2\n",
            "3 . Iron Man 3\n",
            "4 . Avengers: Age of Ultron\n",
            "5 . The Avengers\n",
            "6 . Captain America: Civil War\n",
            "7 . Captain America: The Winter Soldier\n",
            "8 . Ant-Man\n",
            "9 . X-Men\n",
            "10 . Made\n",
            "11 . X-Men: Apocalypse\n",
            "12 . X2\n",
            "13 . The Incredible Hulk\n",
            "14 . The Helix... Loaded\n",
            "15 . X-Men: First Class\n",
            "16 . X-Men: Days of Future Past\n",
            "17 . Captain America: The First Avenger\n",
            "18 . Kick-Ass 2\n",
            "19 . Guardians of the Galaxy\n",
            "20 . Deadpool\n",
            "21 . Thor: The Dark World\n",
            "22 . G-Force\n",
            "23 . X-Men: The Last Stand\n",
            "24 . Duets\n",
            "25 . Mortdecai\n",
            "26 . The Last Airbender\n",
            "27 . Southland Tales\n",
            "28 . Zathura: A Space Adventure\n",
            "29 . Sky Captain and the World of Tomorrow\n",
            "30 . The Amazing Spider-Man 2\n"
          ]
        }
      ]
    }
  ]
}